{
 "cells": [
  {
   "cell_type": "code",
   "execution_count": 17,
   "id": "88be2401",
   "metadata": {},
   "outputs": [],
   "source": [
    "import os\n",
    "import sys\n",
    "import pandas as pd\n",
    "\n",
    "import rasterio\n",
    "from rasterio import features\n",
    "from rasterio.mask import mask\n",
    "from rasterio.crs import CRS\n",
    "from shapely.geometry import mapping\n",
    "from shapely.geometry import shape\n",
    "import numpy as np\n",
    "import geopandas as gpd\n",
    "from scipy import ndimage\n",
    "\n",
    "from rasterstats import zonal_stats\n",
    "from rasterio.windows import from_bounds\n",
    "\n",
    "tile_of_interest = 'SS79'\n",
    "\n",
    "wd = 'Y:/Forest Inventory/0700_NonCore_Funded/0726_TOW_Wales/04_Spatial Analysis/3_Test_Square'\n",
    "\n",
    "#chm_raster = f'{wd}/SS79_CHM_2020_22_32bit.tif'\n",
    "output_path = f'{wd}/{tile_of_interest}_CHM_1.3m_masked_NFI_OSSM_Cables_Waterbodies_v2.tif'"
   ]
  },
  {
   "cell_type": "code",
   "execution_count": 18,
   "id": "555ae3d7",
   "metadata": {},
   "outputs": [],
   "source": [
    "###############################\n",
    "# Get extent of tile \n",
    "###############################\n",
    "\n",
    "fp = 'Y:/Forest Inventory/0700_NonCore_Funded/0726_TOW_Wales/04_Spatial Analysis/1_Reference_Data/4_Wales_10km_Squares/Wales_10km_Squares.shp'\n",
    "wales_10km_footprint = gpd.read_file(fp)\n",
    "\n",
    "tile_footprint = wales_10km_footprint[wales_10km_footprint['tileref'] == tile_of_interest]\n",
    "tile_footprint = tile_footprint.set_crs('EPSG:27700') "
   ]
  },
  {
   "cell_type": "code",
   "execution_count": 19,
   "id": "2d5d8507",
   "metadata": {},
   "outputs": [
    {
     "name": "stdout",
     "output_type": "stream",
     "text": [
      "Removing pixels below 2.5m from CHM\n"
     ]
    }
   ],
   "source": [
    "#####################################\n",
    "# Remove pixels below 2.5m from CHM\n",
    "#####################################\n",
    "\n",
    "print('Removing pixels below 2.5m from CHM')\n",
    "\n",
    "chm_fp = 'Y:/Forest Inventory/0700_NonCore_Funded/0726_TOW_Wales/04_Spatial Analysis/1_Reference_Data/1_Wales_LiDAR/Wales_CHM_2020_22_32bit.tif'\n",
    "\n",
    "with rasterio.open(chm_fp) as src:\n",
    "\n",
    "    window = from_bounds(*tile_footprint.total_bounds, transform=src.transform)\n",
    "    chm_data = src.read(1, window=window).astype('float32')\n",
    "    out_transform = src.window_transform(window)\n",
    "    out_meta = src.meta.copy()\n",
    "\n",
    "    chm_data = np.where(chm_data < 1.3, np.nan, chm_data)\n",
    "\n",
    "    meta = src.meta.copy()\n",
    "\n",
    "    chm_crs = src.crs\n",
    "    transform = src.transform\n",
    "\n",
    "out_shape = (int(window.height), int(window.width))"
   ]
  },
  {
   "cell_type": "code",
   "execution_count": 21,
   "id": "a2df8d44",
   "metadata": {},
   "outputs": [
    {
     "name": "stdout",
     "output_type": "stream",
     "text": [
      "Categorising OSMM features\n"
     ]
    },
    {
     "name": "stderr",
     "output_type": "stream",
     "text": [
      "C:\\Users\\eleanor.downer\\AppData\\Local\\Temp\\ipykernel_15828\\1622861925.py:11: FutureWarning: A value is trying to be set on a copy of a DataFrame or Series through chained assignment using an inplace method.\n",
      "The behavior will change in pandas 3.0. This inplace method will never work because the intermediate object on which we are setting values always behaves as a copy.\n",
      "\n",
      "For example, when doing 'df[col].method(value, inplace=True)', try using 'df.method({col: value}, inplace=True)' or df[col] = df[col].method(value) instead, to perform the operation inplace on the original object.\n",
      "\n",
      "\n",
      "  OSMM[\"descterm\"].replace('', np.nan, inplace=True)\n"
     ]
    }
   ],
   "source": [
    "##############################\n",
    "# Categorise OSMM\n",
    "##############################\n",
    "\n",
    "print('Categorising OSMM features')\n",
    "\n",
    "OSMM_path = f'{wd}/OSMM_Square_SS79/OSMM_Square_SS79.shp'\n",
    "OSMM = gpd.read_file(OSMM_path) \n",
    "\n",
    "# Update features with blank 'descterm' field\n",
    "OSMM[\"descterm\"].replace('', np.nan, inplace=True)\n",
    "\n",
    "for value in OSMM[\"descgroup\"].unique():\n",
    "    OSMM.loc[\n",
    "        (OSMM[\"descterm\"].isna()) & (OSMM[\"descgroup\"] == value),\n",
    "        \"descterm\"\n",
    "    ] = value\n",
    "\n",
    "# Create Surf_Obj field\n",
    "OSMM[\"Surf_Obj\"] = None\n",
    "\n",
    "# Define 'tree', surface' and 'mask' terms\n",
    "\n",
    "tree_terms = [\"Agricultural Land\", \"Aqueduct,Scrub\", \"Boulders (Scattered),Coniferous Trees,Nonconiferous Trees,Scrub\", \"Boulders (Scattered),Nonconiferous Trees\", \"Boulders (Scattered),Rough Grassland,Scrub\", \"General Surface\", \"Bridge,Nonconiferous Trees\", \"Bridge,Nonconiferous Trees,Scrub\", \"Bridge,Rough Grassland\", \"Canal\", \"Cliff\", \"Collects\", \"Coniferous Trees\", \"Coniferous Trees (Scattered)\", \"Coniferous Trees (Scattered),Nonconiferous Trees (Scattered)\", \"Coniferous Trees (Scattered),Nonconiferous Trees (Scattered),Scrub\", \"Coniferous Trees (Scattered),Rough Grassland\", \"Coniferous Trees (Scattered),Rough Grassland,Scrub\", \"Coniferous Trees (Scattered),Scrub\", \"Coniferous Trees,Mineral Workings (Inactive)\", \"Coniferous Trees,Nonconiferous Trees\", \"Coniferous Trees,Nonconiferous Trees,Scrub\", \"Coniferous Trees,Scrub\", \"Coniferous Trees,Scrub,Nonconiferous Trees\", \"Coniferous Trees,Static Water\", \"Coppice Or Osiers,Nonconiferous Trees\", \"Drain\", \"Ford\", \"Heath\", \"Heath,Nonconiferous Trees (Scattered)\", \"Heath,Nonconiferous Trees (Scattered),Rough Grassland\", \"Heath,Rough Grassland\", \"Heath,Rough Grassland,Scrub\", \"Inland Water\", \"Landform\", \"Marsh\", \"Marsh,Nonconiferous Trees\", \"Marsh,Nonconiferous Trees,Scrub\", \"Marsh,Rough Grassland\", \"Marsh,Rough Grassland,Scrub\", \"Marsh,Scrub\", \"Mineral Workings\", \"Mineral Workings (Inactive)\", \"Mineral Workings (Inactive),Nonconiferous Trees\", \"Mineral Workings (Inactive),Nonconiferous Trees,Scrub\", \"Mineral Workings (Inactive),Slope\", \"Mud\", \"Multi Surface\", \"Nonconiferous Trees\", \"Nonconiferous Trees (Scattered)\", \"Nonconiferous Trees (Scattered),Heath\", \"Nonconiferous Trees (Scattered),Rough Grassland\", \"Nonconiferous Trees (Scattered),Rough Grassland,Scrub\", \"Nonconiferous Trees (Scattered),Scrub\", \"Nonconiferous Trees (Scattered),Scrub,Rough Grassland\", \"Nonconiferous Trees,Boulders\", \"Nonconiferous Trees,Coniferous Trees\", \"Nonconiferous Trees,Coniferous Trees,Scrub\", \"Nonconiferous Trees,Coppice Or Osiers\", \"Nonconiferous Trees,Scrub\", \"Nonconiferous Trees,Scrub,Coniferous Trees\", \"Orchard\", \"Path\", \"Path,Structure\", \"Rail\", \"Reeds,Static Water\", \"Reeds,Watercourse\", \"Road Or Track\", \"Roadside\", \"Rock\", \"Rough Grassland\", \"Rough Grassland,Boulders\", \"Rough Grassland,Boulders,Heath\", \"Rough Grassland,Coniferous Trees (Scattered)\", \"Rough Grassland,Heath\", \"Rough Grassland,Nonconiferous Trees (Scattered)\", \"Rough Grassland,Sand\", \"Rough Grassland,Scrub\", \"Rough Grassland,Scrub,Boulders (Scattered)\", \"Rough Grassland,Scrub,Nonconiferous Trees (Scattered)\", \"Rough Grassland,Scrub,Spoil Heap (Inactive)\", \"Scrub\", \"Scrub,Coniferous Trees\", \"Scrub,Coniferous Trees,Nonconiferous Trees\", \"Scrub,Nonconiferous Trees\", \"Scrub,Nonconiferous Trees (Scattered)\", \"Scrub,Nonconiferous Trees,Coniferous Trees\", \"Scrub,Rough Grassland\", \"Scrub,Rough Grassland,Nonconiferous Trees (Scattered)\", \"Scrub,Spoil Heap (Inactive)\", \"Shingle\", \"Sinks\", \"Slipway\", \"Slope\", \"Sloping Masonry\", \"Spring\", \"Step\", \"Track\", \"Traffic Calming\", \"Unclassified\", \"Watercourse\", \"Waterfall\", \"Weir\"]\n",
    "OSMM.loc[OSMM[\"descterm\"].isin(tree_terms), \"Surf_Obj\"] = \"No\"\n",
    "\n",
    "surface_terms = [\"Archway\", \"Aqueduct,Canal\", \"Bridge\", \"Bridge,Step\", \"Building\", \"Building,Structure\", \"Chimney\", \"Conveyor\", \"Conveyor,Overhead Construction\", \"Gas Governor\", \"Electricity Sub Station\", \"Footbridge\", \"Footbridge,Step\", \"Fountain\", \"Gantry\", \"General Surface,Structure\", \"General Surface,Rail\", \"General Surface,Roadside,Structure\", \"Glasshouse\", \"Level Crossing\", \"Public Convenience\", \"Pylon\", \"Rail Signal Gantry\", \"Rail,Structure\", \"Roadside,Structure\", \"Structure\", \"Structure,Inland Water\", \"Tank\"]\n",
    "OSMM.loc[OSMM[\"descterm\"].isin(surface_terms), \"Surf_Obj\"] = \"Yes\"\n",
    "\n",
    "mask_terms = [\"Boulders\", \"Boulders,Foreshore\", \"Foreshore\", \"Foreshore,Mud\", \"Foreshore,Mud,Sand\", \"Foreshore,Mud,Shingle\", \"Foreshore,Saltmarsh\", \"Foreshore,Sand\", \"Foreshore,Shingle\", \"Foreshore,Slipway\", \"Foreshore,Sloping Masonry\", \"Mud,Sand\", \"Sand\", \"Swimming Pool\", \"Tidal Water\"]\n",
    "OSMM.loc[OSMM[\"descterm\"].isin(mask_terms), \"Surf_Obj\"] = \"Mask\"\n",
    "\n",
    "water_terms = [\"Reservoir\", \"Static Water\"]\n",
    "OSMM.loc[OSMM[\"descterm\"].isin(water_terms), \"Surf_Obj\"] = \"Water\""
   ]
  },
  {
   "cell_type": "code",
   "execution_count": 22,
   "id": "c45da412",
   "metadata": {},
   "outputs": [
    {
     "name": "stdout",
     "output_type": "stream",
     "text": [
      "Masking water bodies over 10,000m2\n"
     ]
    }
   ],
   "source": [
    "######################################\n",
    "# Mask water bodies over 5,000m2\n",
    "######################################\n",
    "\n",
    "print('Masking water bodies over 10,000m2')\n",
    "\n",
    "water_gdf = OSMM[OSMM[\"Surf_Obj\"] == \"Water\"].copy()\n",
    "large_water_gdf = water_gdf[water_gdf['calcarea'] > 5000]\n",
    "water_gdf = water_gdf.to_crs(chm_crs)\n",
    "\n",
    "# Rasterise mask_terms\n",
    "water_mask = features.rasterize(\n",
    "    [(geom, 1) for geom in large_water_gdf.geometry],\n",
    "    out_shape=out_shape,\n",
    "    transform=transform,\n",
    "    fill=0,\n",
    "    dtype=\"uint8\"\n",
    ")\n",
    "\n",
    "# Apply water mask to CHM\n",
    "chm_data = np.where(water_mask == 1, np.nan, chm_data)"
   ]
  },
  {
   "cell_type": "code",
   "execution_count": 23,
   "id": "81e1b297",
   "metadata": {},
   "outputs": [
    {
     "name": "stdout",
     "output_type": "stream",
     "text": [
      "Masking out non-tree OSMM features from CHM\n"
     ]
    }
   ],
   "source": [
    "###########################################\n",
    "# Mask out non-tree OSMM features from CHM\n",
    "###########################################\n",
    "\n",
    "print('Masking out non-tree OSMM features from CHM')\n",
    "\n",
    "# Buffer and reproject surface_terms\n",
    "surface_gdf = OSMM[OSMM[\"Surf_Obj\"] == \"Yes\"].copy()\n",
    "surface_gdf = surface_gdf.to_crs(chm_crs)\n",
    "surface_gdf[\"geometry\"] = surface_gdf.buffer(2)\n",
    "\n",
    "# Get mask_terms and reproject\n",
    "mask_gdf = OSMM[OSMM[\"Surf_Obj\"] == \"Mask\"].copy()\n",
    "mask_gdf = mask_gdf.to_crs(chm_crs)\n",
    "\n",
    "# Rasterise buffered surface_terms\n",
    "surface_mask = features.rasterize(\n",
    "        [(geom, 1) for geom in surface_gdf.geometry],\n",
    "        out_shape=out_shape,\n",
    "        transform=transform,\n",
    "        fill=0,\n",
    "        dtype=\"uint8\"\n",
    ")\n",
    "\n",
    "# Rasterise mask_terms\n",
    "mask_mask = features.rasterize(\n",
    "        [(geom, 1) for geom in mask_gdf.geometry],\n",
    "        out_shape=out_shape,\n",
    "        transform=transform,\n",
    "        fill=0,\n",
    "        dtype=\"uint8\"\n",
    ")\n",
    "\n",
    "# Apply both masks\n",
    "combined_mask = (surface_mask == 1) | (mask_mask == 1)\n",
    "chm_data[combined_mask] = np.nan"
   ]
  },
  {
   "cell_type": "code",
   "execution_count": 24,
   "id": "bb19fac6",
   "metadata": {},
   "outputs": [
    {
     "name": "stdout",
     "output_type": "stream",
     "text": [
      "Masking out buildings from OpenStreetMap\n"
     ]
    },
    {
     "name": "stderr",
     "output_type": "stream",
     "text": [
      "c:\\PythonWorkspaces\\VirtualEnvironment\\Lib\\site-packages\\geopandas\\io\\file.py:484: UserWarning: More than one layer found in 'wales_osm_clean.gpkg': 'points' (default), 'lines', 'multilinestrings', 'other_relations', 'multipolygons'. Specify layer parameter to avoid this warning.\n",
      "  crs = pyogrio.read_info(path_or_bytes).get(\"crs\")\n"
     ]
    }
   ],
   "source": [
    "###########################################\n",
    "# Mask out buildings from OpenStreetMap\n",
    "###########################################\n",
    "\n",
    "print('Masking out buildings from OpenStreetMap')\n",
    "\n",
    "osm_fp = f'C:/Users/eleanor.downer/OneDrive - Forest Research/Documents/TOW_Wales/wales_osm_clean.gpkg'\n",
    "\n",
    "osm_polygons = gpd.read_file(osm_fp, layer='multipolygons', bbox=tile_footprint)\n",
    "osm_buildings = osm_polygons[osm_polygons['building'].notna()].copy()\n",
    "\n",
    "# Rasterise buildings\n",
    "osm_buildings_mask = features.rasterize(\n",
    "    [(geom, 1) for geom in osm_buildings.geometry],\n",
    "    out_shape=out_shape,\n",
    "    transform=transform,\n",
    "    fill=0,\n",
    "    dtype=\"uint8\"\n",
    ")\n",
    "\n",
    "osm_buildings_mask = osm_buildings_mask.astype(bool)\n",
    "\n",
    "chm_data[osm_buildings_mask] = np.nan"
   ]
  },
  {
   "cell_type": "code",
   "execution_count": 25,
   "id": "ab288208",
   "metadata": {},
   "outputs": [
    {
     "name": "stdout",
     "output_type": "stream",
     "text": [
      "Masking out power cables from CHM\n"
     ]
    }
   ],
   "source": [
    "###########################################\n",
    "# Mask power cables\n",
    "###########################################\n",
    "\n",
    "print('Masking out power cables from CHM')\n",
    "\n",
    "cables_fp = 'Y:/Forest Inventory/0700_NonCore_Funded/0726_TOW_Wales/04_Spatial Analysis/1_Reference_Data/10_Power_Lines/OHL.shp'\n",
    "cables = gpd.read_file(cables_fp)\n",
    "\n",
    "# Rasterise cables\n",
    "cables_mask = features.rasterize(\n",
    "    [(geom, 1) for geom in cables.geometry],\n",
    "    out_shape=out_shape,\n",
    "    transform=transform,\n",
    "    fill=0,\n",
    "    dtype=\"uint8\"\n",
    ")\n",
    "\n",
    "cables_mask = cables_mask.astype(bool)\n",
    "\n",
    "over_20m_mask = chm_data > 20\n",
    "cables_mask = cables_mask & over_20m_mask\n",
    "\n",
    "chm_data[cables_mask] = np.nan"
   ]
  },
  {
   "cell_type": "code",
   "execution_count": 26,
   "id": "9264d62e",
   "metadata": {},
   "outputs": [
    {
     "name": "stdout",
     "output_type": "stream",
     "text": [
      "Masking out power substations from CHM\n"
     ]
    }
   ],
   "source": [
    "###########################################\n",
    "# Mask power substations from OpenStreetMap\n",
    "###########################################\n",
    "\n",
    "print('Masking out power substations from CHM')\n",
    "\n",
    "substations_fp = 'Y:/Forest Inventory/0700_NonCore_Funded/0726_TOW_Wales/04_Spatial Analysis/1_Reference_Data/10_Power_Lines/Substations.shp'\n",
    "substations = gpd.read_file(substations_fp)\n",
    "\n",
    "# Rasterise substations\n",
    "substations_mask = features.rasterize(\n",
    "    [(geom, 1) for geom in substations.geometry],\n",
    "    out_shape=out_shape,\n",
    "    transform=transform,\n",
    "    fill=0,\n",
    "    dtype=\"uint8\"\n",
    ")\n",
    "\n",
    "substations_mask = substations_mask.astype(bool)\n",
    "chm_data[substations_mask] = np.nan"
   ]
  },
  {
   "cell_type": "code",
   "execution_count": 27,
   "id": "2bc6a001",
   "metadata": {},
   "outputs": [
    {
     "name": "stdout",
     "output_type": "stream",
     "text": [
      "Masking out NFI Woodland from CHM\n"
     ]
    }
   ],
   "source": [
    "####################################\n",
    "# Mask out NFI Woodland\n",
    "####################################\n",
    "\n",
    "print('Masking out NFI Woodland from CHM')\n",
    "\n",
    "NFI_woodland_fp = 'Y:/Forest Inventory/0700_NonCore_Funded/0726_TOW_Wales/04_Spatial Analysis/1_Reference_Data/6_Wales_NFI_2023/NFI_Wales_2023_WoodlandOnly.gpkg'\n",
    "nfi_gdf = gpd.read_file(NFI_woodland_fp, bbox=tile_footprint)\n",
    "\n",
    "# Reproject NFI to match CHM \n",
    "if nfi_gdf.crs != chm_crs:\n",
    "    nfi_gdf = nfi_gdf.to_crs(chm_crs)\n",
    "\n",
    "# Rasterise NFI\n",
    "nfi_mask = features.rasterize(\n",
    "    [(geom, 1) for geom in nfi_gdf.geometry],\n",
    "    out_shape=out_shape,\n",
    "    transform=transform,\n",
    "    fill=0,\n",
    "    dtype=\"uint8\"\n",
    ")\n",
    "\n",
    "nfi_mask = nfi_mask.astype(bool)\n",
    "chm_data[nfi_mask] = np.nan"
   ]
  },
  {
   "cell_type": "code",
   "execution_count": null,
   "id": "ed2e7966",
   "metadata": {},
   "outputs": [],
   "source": [
    "################################################\n",
    "# Mask out water bodies and large, flat objects\n",
    "####################################\n",
    "\n",
    "#chm_var_path = f\"{wd}/CHM_variation/SS79_var_3x3_filtered_with_NFI.tif\"\n",
    "\n",
    "#with rasterio.open(chm_var_path) as var_src:\n",
    "#    chm_var_data = var_src.read(1).astype(np.float32)\n",
    "#    chm_var_data = np.where(chm_var_data > 0.3, np.nan, chm_var_data)\n",
    "\n",
    "#var_mask = ~np.isnan(chm_var_data)\n",
    "#structure = ndimage.generate_binary_structure(2, 1) # Label connected components\n",
    "#labeled, num = ndimage.label(var_mask, structure=structure)\n",
    "#sizes = np.bincount(labeled.ravel()) # Count component sizes\n",
    "\n",
    "#keep_mask = np.zeros_like(sizes, dtype=bool)\n",
    "#keep_mask[sizes >= 100] = True\n",
    "#keep_mask[0] = False  # background always False\n",
    "\n",
    "#chm_var_data = np.where(keep_mask[labeled], chm_var_data, np.nan)\n",
    "\n",
    "#with rasterio.open(f\"{wd}/CHM_variation/SS79_var_3x3_filtered_with_NFI_min100pixels.tif\", \"w\", **meta) as dst:\n",
    "#    dst.write(chm_var_data, 1)"
   ]
  },
  {
   "cell_type": "code",
   "execution_count": 28,
   "id": "d34a6a74",
   "metadata": {},
   "outputs": [
    {
     "name": "stdout",
     "output_type": "stream",
     "text": [
      "{'driver': 'GTiff', 'dtype': 'float32', 'nodata': -9999.0, 'width': 191007, 'height': 233000, 'count': 1, 'crs': CRS.from_epsg(27700), 'transform': Affine(1.0, 0.0, 164993.0,\n",
      "       0.0, -1.0, 397000.0)}\n"
     ]
    }
   ],
   "source": [
    "print(meta)\n",
    "\n",
    "meta.update({\n",
    "    'width' : out_shape[1],\n",
    "    'height' : out_shape[0],\n",
    "    'crs' : chm_crs,\n",
    "    'transform' : out_transform,\n",
    "})"
   ]
  },
  {
   "cell_type": "code",
   "execution_count": null,
   "id": "e496f303",
   "metadata": {},
   "outputs": [],
   "source": [
    "####################################\n",
    "# Remove clusters smaller than 5m2\n",
    "####################################\n",
    "\n",
    "# Create binary mask of valid pixels\n",
    "mask = ~np.isnan(chm_data)\n",
    "\n",
    "structure = ndimage.generate_binary_structure(2, 1) # Label connected components\n",
    "labeled, num = ndimage.label(mask, structure=structure)\n",
    "sizes = np.bincount(labeled.ravel()) # Count component sizes\n",
    "\n",
    "# Build keep mask\n",
    "keep_mask = np.zeros_like(sizes, dtype=bool)\n",
    "keep_mask[sizes >= 5] = True\n",
    "keep_mask[0] = False  # background always False\n",
    "\n",
    "chm_data = np.where(keep_mask[labeled], chm_data, np.nan)"
   ]
  },
  {
   "cell_type": "code",
   "execution_count": null,
   "id": "f04146df",
   "metadata": {},
   "outputs": [],
   "source": [
    "print(meta)"
   ]
  },
  {
   "cell_type": "code",
   "execution_count": null,
   "id": "25cc9dbc",
   "metadata": {},
   "outputs": [],
   "source": [
    "chm_data = np.where(np.isnan(chm_data), -9999, chm_data)\n",
    "\n",
    "output_path = f'{wd}/{tile_of_interest}_CHM_1.3m_masked_NFI_OSSM_Cables_Waterbodies_nodata.tif'\n",
    "with rasterio.open(output_path, \"w\", **meta) as dst:\n",
    "    dst.write(chm_data, 1)"
   ]
  },
  {
   "cell_type": "markdown",
   "id": "72d93476",
   "metadata": {},
   "source": [
    "### Polygonise and add OSSM details"
   ]
  },
  {
   "cell_type": "code",
   "execution_count": 9,
   "id": "d9015515",
   "metadata": {},
   "outputs": [],
   "source": [
    "################################################\n",
    "# Polygonise and add OSSM details\n",
    "################################################\n",
    "\n",
    "with rasterio.open(fp) as src:\n",
    "    chm_data = src.read(1).astype(np.float32)\n",
    "    transform = src.transform\n",
    "\n",
    "binary = (chm_data > 0).astype(np.uint8)\n",
    "\n",
    "shapes = rasterio.features.shapes(\n",
    "    binary,\n",
    "    mask=(binary == 1),\n",
    "    transform=transform\n",
    ")\n",
    "\n",
    "geoms = [shape(geom) for geom, value in shapes]\n",
    "values = [value for geom, value in shapes]\n",
    "chm_geoms = gpd.GeoDataFrame({\"value\": values}, geometry=geoms, crs='EPSG:27700')\n",
    "\n",
    "chm_geoms['poly_id'] = [i+1 for i in range(0,len(chm_geoms))]\n",
    "chm_geoms['area_m2'] = chm_geoms.area"
   ]
  },
  {
   "cell_type": "code",
   "execution_count": 7,
   "id": "8a44c6de",
   "metadata": {},
   "outputs": [],
   "source": [
    "chm_geoms.to_file(f\"{wd}/VOM_polygons_cables_filtered.gpkg\", driver=\"GPKG\", index=False)"
   ]
  },
  {
   "cell_type": "code",
   "execution_count": 6,
   "id": "d95e54bf",
   "metadata": {},
   "outputs": [],
   "source": [
    "chm_geoms_with_ossm = gpd.sjoin(chm_geoms, OSMM, how=\"left\", predicate=\"intersects\")\n",
    "\n",
    "chm_geoms_with_ossm = chm_geoms_with_ossm.drop(columns = ['value', 'index_right', 'toid', 'featcode', 'version', 'verdate', 'calcarea', 'change', 'physlevel', 'physpres', 'style_desc', 'style_code', 'Surf_Obj', 'theme'])"
   ]
  },
  {
   "cell_type": "code",
   "execution_count": null,
   "id": "850d8138",
   "metadata": {},
   "outputs": [
    {
     "name": "stdout",
     "output_type": "stream",
     "text": [
      "   poly_id                                           geometry  area_m2  \\\n",
      "0        1  POLYGON ((277287 200000, 277287 199999, 277296...      9.0   \n",
      "1        2  POLYGON ((274267 200000, 274267 199999, 274268...      9.0   \n",
      "2        3  POLYGON ((274281 200000, 274281 199998, 274283...      5.0   \n",
      "3        4  POLYGON ((274793 200000, 274793 199998, 274794...      7.0   \n",
      "4        5  POLYGON ((275318 200000, 275318 199998, 275321...      7.0   \n",
      "\n",
      "       descgroup_1          descgroup_2      descgroup_3      descgroup_4  \\\n",
      "0  General Surface      General Surface  General Surface              NaN   \n",
      "1             Path      General Surface  General Surface  General Surface   \n",
      "2  General Surface                  NaN              NaN              NaN   \n",
      "3     Inland Water  Natural Environment              NaN              NaN   \n",
      "4  General Surface        Road Or Track              NaN              NaN   \n",
      "\n",
      "  descgroup_5 descgroup_6 descgroup_7  ... make_98 make_99 make_100 make_101  \\\n",
      "0         NaN         NaN         NaN  ...     NaN     NaN      NaN      NaN   \n",
      "1         NaN         NaN         NaN  ...     NaN     NaN      NaN      NaN   \n",
      "2         NaN         NaN         NaN  ...     NaN     NaN      NaN      NaN   \n",
      "3         NaN         NaN         NaN  ...     NaN     NaN      NaN      NaN   \n",
      "4         NaN         NaN         NaN  ...     NaN     NaN      NaN      NaN   \n",
      "\n",
      "  make_102 make_103 make_104 make_105 make_106 make_107  \n",
      "0      NaN      NaN      NaN      NaN      NaN      NaN  \n",
      "1      NaN      NaN      NaN      NaN      NaN      NaN  \n",
      "2      NaN      NaN      NaN      NaN      NaN      NaN  \n",
      "3      NaN      NaN      NaN      NaN      NaN      NaN  \n",
      "4      NaN      NaN      NaN      NaN      NaN      NaN  \n",
      "\n",
      "[5 rows x 324 columns]\n"
     ]
    }
   ],
   "source": [
    "# Reset index to avoid duplicate issues\n",
    "gdf = chm_geoms_with_ossm.reset_index(drop=True)\n",
    "\n",
    "# Create a group index (1,2,3...) within each polygon for the duplicate records\n",
    "gdf[\"row_in_poly\"] = gdf.groupby([\"poly_id\", \"geometry\"]).cumcount() + 1\n",
    "\n",
    "# Drop duplicates inside each polygon group before pivoting\n",
    "deduped = (\n",
    "    gdf\n",
    "    .drop_duplicates(subset=[\"poly_id\", \"geometry\", \"area_m2\",\n",
    "                             \"descgroup\", \"descterm\", \"make\"])\n",
    "    .reset_index(drop=True)\n",
    ")\n",
    "\n",
    "# Recreate the per-polygon row index\n",
    "deduped[\"row_in_poly\"] = (\n",
    "    deduped.groupby([\"poly_id\", \"geometry\"]).cumcount() + 1\n",
    ")\n",
    "\n",
    "# Pivot wider\n",
    "wide = deduped.pivot_table(\n",
    "    index=[\"poly_id\", \"geometry\", \"area_m2\"],\n",
    "    columns=\"row_in_poly\",\n",
    "    values=[\"descgroup\", \"descterm\", \"make\"],\n",
    "    aggfunc=\"first\"\n",
    ")\n",
    "\n",
    "# Flatten the MultiIndex columns\n",
    "wide.columns = [f\"{col}_{i}\" for col, i in wide.columns]\n",
    "\n",
    "wide = wide.reset_index()\n",
    "wide = gpd.GeoDataFrame(wide, geometry=\"geometry\", crs=gdf.crs)\n"
   ]
  },
  {
   "cell_type": "code",
   "execution_count": 150,
   "id": "6ab95d31",
   "metadata": {},
   "outputs": [],
   "source": [
    "wide.to_file(f'{wd}/VOM_polygons_with_OSSM.gpkg')"
   ]
  }
 ],
 "metadata": {
  "kernelspec": {
   "display_name": "VirtualEnvironment",
   "language": "python",
   "name": "python3"
  },
  "language_info": {
   "codemirror_mode": {
    "name": "ipython",
    "version": 3
   },
   "file_extension": ".py",
   "mimetype": "text/x-python",
   "name": "python",
   "nbconvert_exporter": "python",
   "pygments_lexer": "ipython3",
   "version": "3.12.6"
  }
 },
 "nbformat": 4,
 "nbformat_minor": 5
}
