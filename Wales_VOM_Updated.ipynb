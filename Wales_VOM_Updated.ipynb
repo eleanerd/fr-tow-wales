{
 "cells": [
  {
   "cell_type": "code",
   "execution_count": 18,
   "id": "88be2401",
   "metadata": {},
   "outputs": [],
   "source": [
    "import os\n",
    "import sys\n",
    "import pandas as pd\n",
    "\n",
    "import rasterio\n",
    "from rasterio import features\n",
    "from rasterio.mask import mask\n",
    "from rasterio.crs import CRS\n",
    "from shapely.geometry import mapping\n",
    "from shapely.geometry import shape\n",
    "import numpy as np\n",
    "import geopandas as gpd\n",
    "from scipy import ndimage\n",
    "\n",
    "from rasterstats import zonal_stats\n",
    "from rasterio.windows import from_bounds\n",
    "\n",
    "from shapely.ops import polygonize\n",
    "\n",
    "tile_of_interest = 'SS79'\n",
    "wd = 'Y:/Forest Inventory/0700_NonCore_Funded/0726_TOW_Wales/04_Spatial Analysis/3_Test_Square'"
   ]
  },
  {
   "cell_type": "code",
   "execution_count": 2,
   "id": "555ae3d7",
   "metadata": {},
   "outputs": [],
   "source": [
    "###############################\n",
    "# Get extent of tile \n",
    "###############################\n",
    "\n",
    "fp = 'Y:/Forest Inventory/0700_NonCore_Funded/0726_TOW_Wales/04_Spatial Analysis/1_Reference_Data/4_Wales_10km_Squares/Wales_10km_Squares.shp'\n",
    "wales_10km_footprint = gpd.read_file(fp)\n",
    "\n",
    "tile_footprint = wales_10km_footprint[wales_10km_footprint['tileref'] == tile_of_interest]\n",
    "tile_footprint = tile_footprint.set_crs('EPSG:27700') "
   ]
  },
  {
   "cell_type": "code",
   "execution_count": null,
   "id": "2d5d8507",
   "metadata": {},
   "outputs": [
    {
     "name": "stdout",
     "output_type": "stream",
     "text": [
      "Removing pixels below 2.5m from CHM\n"
     ]
    }
   ],
   "source": [
    "#####################################\n",
    "# Remove pixels below 2.5m from CHM\n",
    "#####################################\n",
    "\n",
    "print('Removing pixels below 2.5m from CHM')\n",
    "\n",
    "chm_fp = 'Y:/Forest Inventory/0700_NonCore_Funded/0726_TOW_Wales/04_Spatial Analysis/1_Reference_Data/1_Wales_LiDAR/Wales_CHM_2020_22_32bit.tif'\n",
    "\n",
    "with rasterio.open(chm_fp) as src:\n",
    "\n",
    "    window = from_bounds(*tile_footprint.total_bounds, transform=src.transform)\n",
    "    chm_data = src.read(1, window=window).astype('float32')\n",
    "\n",
    "    out_transform = src.window_transform(window)\n",
    "    out_meta = src.meta.copy()\n",
    "    chm_crs = src.crs\n",
    "    \n",
    "    chm_data = np.where(chm_data < 1.3, np.nan, chm_data)\n",
    "    \n",
    "out_shape = (int(window.height), int(window.width))"
   ]
  },
  {
   "cell_type": "code",
   "execution_count": 1,
   "id": "351903f9",
   "metadata": {},
   "outputs": [
    {
     "ename": "NameError",
     "evalue": "name 'pd' is not defined",
     "output_type": "error",
     "traceback": [
      "\u001b[1;31m---------------------------------------------------------------------------\u001b[0m",
      "\u001b[1;31mNameError\u001b[0m                                 Traceback (most recent call last)",
      "Cell \u001b[1;32mIn[1], line 5\u001b[0m\n\u001b[0;32m      1\u001b[0m \u001b[38;5;66;03m#################################\u001b[39;00m\n\u001b[0;32m      2\u001b[0m \u001b[38;5;66;03m# Create dictionary OSMM terms\u001b[39;00m\n\u001b[0;32m      3\u001b[0m \u001b[38;5;66;03m#################################\u001b[39;00m\n\u001b[1;32m----> 5\u001b[0m osm_desc_terms \u001b[38;5;241m=\u001b[39m \u001b[43mpd\u001b[49m\u001b[38;5;241m.\u001b[39mread_csv(\u001b[38;5;124m'\u001b[39m\u001b[38;5;124mY:/Forest Inventory/0700_NonCore_Funded/0726_TOW_Wales/04_Spatial Analysis/1_Reference_Data/5_Wales_OSMM_2023/descterm_categories.csv\u001b[39m\u001b[38;5;124m'\u001b[39m)\n\u001b[0;32m      6\u001b[0m osm_desc_terms\u001b[38;5;241m.\u001b[39mcolumns \u001b[38;5;241m=\u001b[39m osm_desc_terms\u001b[38;5;241m.\u001b[39mcolumns\u001b[38;5;241m.\u001b[39mstr\u001b[38;5;241m.\u001b[39mstrip()\n\u001b[0;32m      7\u001b[0m osm_desc_terms \u001b[38;5;241m=\u001b[39m osm_desc_terms\u001b[38;5;241m.\u001b[39mmap(\u001b[38;5;28;01mlambda\u001b[39;00m x: x\u001b[38;5;241m.\u001b[39mstrip() \u001b[38;5;28;01mif\u001b[39;00m \u001b[38;5;28misinstance\u001b[39m(x, \u001b[38;5;28mstr\u001b[39m) \u001b[38;5;28;01melse\u001b[39;00m x)\n",
      "\u001b[1;31mNameError\u001b[0m: name 'pd' is not defined"
     ]
    }
   ],
   "source": [
    "#################################\n",
    "# Create dictionary OSMM terms\n",
    "#################################\n",
    "\n",
    "osm_desc_terms = pd.read_csv('Y:/Forest Inventory/0700_NonCore_Funded/0726_TOW_Wales/04_Spatial Analysis/1_Reference_Data/5_Wales_OSMM_2023/descterm_categories.csv')\n",
    "osm_desc_terms.columns = osm_desc_terms.columns.str.strip()\n",
    "osm_desc_terms = osm_desc_terms.map(lambda x: x.strip() if isinstance(x, str) else x)\n",
    "\n",
    "osm_terms = {\n",
    "    \"tree_terms\": osm_desc_terms.loc[osm_desc_terms[\"Term (ED)\"] == \"tree_term\", \"Descterm\"].tolist(),\n",
    "    \"mask_terms\": osm_desc_terms.loc[osm_desc_terms[\"Term (ED)\"] == \"mask_term\", \"Descterm\"].tolist(),\n",
    "    \"structure_terms\": osm_desc_terms.loc[osm_desc_terms[\"Term (ED)\"] == \"structure_term\", \"Descterm\"].tolist(),\n",
    "    \"water_terms\": osm_desc_terms.loc[osm_desc_terms[\"Term (ED)\"] == \"water_body\", \"Descterm\"].tolist()\n",
    "}\n",
    "\n",
    "for k, v in osm_terms.items():\n",
    "    print(f\"{k}: {v}\")"
   ]
  },
  {
   "cell_type": "code",
   "execution_count": null,
   "id": "a2df8d44",
   "metadata": {},
   "outputs": [
    {
     "name": "stdout",
     "output_type": "stream",
     "text": [
      "Categorising OSMM features\n"
     ]
    },
    {
     "name": "stderr",
     "output_type": "stream",
     "text": [
      "C:\\Users\\eleanor.downer\\AppData\\Local\\Temp\\ipykernel_12136\\1387477486.py:14: FutureWarning: A value is trying to be set on a copy of a DataFrame or Series through chained assignment using an inplace method.\n",
      "The behavior will change in pandas 3.0. This inplace method will never work because the intermediate object on which we are setting values always behaves as a copy.\n",
      "\n",
      "For example, when doing 'df[col].method(value, inplace=True)', try using 'df.method({col: value}, inplace=True)' or df[col] = df[col].method(value) instead, to perform the operation inplace on the original object.\n",
      "\n",
      "\n",
      "  OSMM[\"descterm\"].replace('', np.nan, inplace=True)\n"
     ]
    }
   ],
   "source": [
    "##############################\n",
    "# Categorise OSMM\n",
    "##############################\n",
    "\n",
    "print('Categorising OSMM features')\n",
    "\n",
    "OSMM_path = f'{wd}/OSMM_Square_SS79/OSMM_Square_SS79.shp'\n",
    "OSMM = gpd.read_file(OSMM_path)\n",
    "\n",
    "if OSMM.crs != chm_crs:\n",
    "    OSMM = OSMM.to_crs(chm_crs)\n",
    "\n",
    "# Update features with blank 'descterm' field\n",
    "OSMM[\"descterm\"].replace('', np.nan, inplace=True)\n",
    "\n",
    "for value in OSMM[\"descgroup\"].unique():\n",
    "    OSMM.loc[\n",
    "        (OSMM[\"descterm\"].isna()) & (OSMM[\"descgroup\"] == value),\n",
    "        \"descterm\"\n",
    "    ] = value\n",
    "\n",
    "# Create Surf_Obj field\n",
    "OSMM[\"Surf_Obj\"] = None\n",
    "\n",
    "#tree_terms = [\"Agricultural Land\", \"Aqueduct,Scrub\", \"Boulders (Scattered),Coniferous Trees,Nonconiferous Trees,Scrub\", \"Boulders (Scattered),Nonconiferous Trees\", \"Boulders (Scattered),Rough Grassland,Scrub\", \"General Surface\", \"Bridge,Nonconiferous Trees\", \"Bridge,Nonconiferous Trees,Scrub\", \"Bridge,Rough Grassland\", \"Canal\", \"Cliff\", \"Collects\", \"Coniferous Trees\", \"Coniferous Trees (Scattered)\", \"Coniferous Trees (Scattered),Nonconiferous Trees (Scattered)\", \"Coniferous Trees (Scattered),Nonconiferous Trees (Scattered),Scrub\", \"Coniferous Trees (Scattered),Rough Grassland\", \"Coniferous Trees (Scattered),Rough Grassland,Scrub\", \"Coniferous Trees (Scattered),Scrub\", \"Coniferous Trees,Mineral Workings (Inactive)\", \"Coniferous Trees,Nonconiferous Trees\", \"Coniferous Trees,Nonconiferous Trees,Scrub\", \"Coniferous Trees,Scrub\", \"Coniferous Trees,Scrub,Nonconiferous Trees\", \"Coniferous Trees,Static Water\", \"Coppice Or Osiers,Nonconiferous Trees\", \"Drain\", \"Ford\", \"Heath\", \"Heath,Nonconiferous Trees (Scattered)\", \"Heath,Nonconiferous Trees (Scattered),Rough Grassland\", \"Heath,Rough Grassland\", \"Heath,Rough Grassland,Scrub\", \"Inland Water\", \"Landform\", \"Marsh\", \"Marsh,Nonconiferous Trees\", \"Marsh,Nonconiferous Trees,Scrub\", \"Marsh,Rough Grassland\", \"Marsh,Rough Grassland,Scrub\", \"Marsh,Scrub\", \"Mineral Workings\", \"Mineral Workings (Inactive)\", \"Mineral Workings (Inactive),Nonconiferous Trees\", \"Mineral Workings (Inactive),Nonconiferous Trees,Scrub\", \"Mineral Workings (Inactive),Slope\", \"Mud\", \"Multi Surface\", \"Nonconiferous Trees\", \"Nonconiferous Trees (Scattered)\", \"Nonconiferous Trees (Scattered),Heath\", \"Nonconiferous Trees (Scattered),Rough Grassland\", \"Nonconiferous Trees (Scattered),Rough Grassland,Scrub\", \"Nonconiferous Trees (Scattered),Scrub\", \"Nonconiferous Trees (Scattered),Scrub,Rough Grassland\", \"Nonconiferous Trees,Boulders\", \"Nonconiferous Trees,Coniferous Trees\", \"Nonconiferous Trees,Coniferous Trees,Scrub\", \"Nonconiferous Trees,Coppice Or Osiers\", \"Nonconiferous Trees,Scrub\", \"Nonconiferous Trees,Scrub,Coniferous Trees\", \"Orchard\", \"Path\", \"Path,Structure\", \"Rail\", \"Reeds,Static Water\", \"Reeds,Watercourse\", \"Road Or Track\", \"Roadside\", \"Rock\", \"Rough Grassland\", \"Rough Grassland,Boulders\", \"Rough Grassland,Boulders,Heath\", \"Rough Grassland,Coniferous Trees (Scattered)\", \"Rough Grassland,Heath\", \"Rough Grassland,Nonconiferous Trees (Scattered)\", \"Rough Grassland,Sand\", \"Rough Grassland,Scrub\", \"Rough Grassland,Scrub,Boulders (Scattered)\", \"Rough Grassland,Scrub,Nonconiferous Trees (Scattered)\", \"Rough Grassland,Scrub,Spoil Heap (Inactive)\", \"Scrub\", \"Scrub,Coniferous Trees\", \"Scrub,Coniferous Trees,Nonconiferous Trees\", \"Scrub,Nonconiferous Trees\", \"Scrub,Nonconiferous Trees (Scattered)\", \"Scrub,Nonconiferous Trees,Coniferous Trees\", \"Scrub,Rough Grassland\", \"Scrub,Rough Grassland,Nonconiferous Trees (Scattered)\", \"Scrub,Spoil Heap (Inactive)\", \"Shingle\", \"Sinks\", \"Slipway\", \"Slope\", \"Sloping Masonry\", \"Spring\", \"Step\", \"Track\", \"Traffic Calming\", \"Unclassified\", \"Waterfall\", \"Weir\"]\n",
    "OSMM.loc[OSMM[\"descterm\"].isin(osm_terms['tree_terms']), \"Surf_Obj\"] = \"No\"\n",
    "\n",
    "#surface_terms = [\"Archway\", \"Aqueduct,Canal\", \"Bridge\", \"Bridge,Step\", \"Building\", \"Building,Structure\", \"Chimney\", \"Conveyor\", \"Conveyor,Overhead Construction\", \"Gas Governor\", \"Electricity Sub Station\", \"Footbridge\", \"Footbridge,Step\", \"Fountain\", \"Gantry\", \"General Surface,Structure\", \"General Surface,Rail\", \"General Surface,Roadside,Structure\", \"Glasshouse\", \"Level Crossing\", \"Public Convenience\", \"Pylon\", \"Rail Signal Gantry\", \"Rail,Structure\", \"Roadside,Structure\", \"Structure\", \"Structure,Inland Water\", \"Tank\"]\n",
    "OSMM.loc[OSMM[\"descterm\"].isin(osm_terms['structure_terms']), \"Surf_Obj\"] = \"Yes\"\n",
    "\n",
    "#mask_terms = [\"Boulders\", \"Boulders,Foreshore\", \"Foreshore\", \"Foreshore,Mud\", \"Foreshore,Mud,Sand\", \"Foreshore,Mud,Shingle\", \"Foreshore,Saltmarsh\", \"Foreshore,Sand\", \"Foreshore,Shingle\", \"Foreshore,Slipway\", \"Foreshore,Sloping Masonry\", \"Mud,Sand\", \"Sand\", \"Swimming Pool\", \"Tidal Water\"]\n",
    "OSMM.loc[OSMM[\"descterm\"].isin(osm_terms['mask_terms']), \"Surf_Obj\"] = \"Mask\"\n",
    "\n",
    "#water_terms = [\"Reservoir\", \"Static Water\", \"Watercourse\"]\n",
    "OSMM.loc[OSMM[\"descterm\"].isin(osm_terms['water_terms']), \"Surf_Obj\"] = \"Water\""
   ]
  },
  {
   "cell_type": "code",
   "execution_count": 12,
   "id": "c45da412",
   "metadata": {},
   "outputs": [
    {
     "name": "stdout",
     "output_type": "stream",
     "text": [
      "Masking water bodies over 500m2\n"
     ]
    }
   ],
   "source": [
    "######################################\n",
    "# Mask water bodies over 500m2\n",
    "######################################\n",
    "\n",
    "print('Masking water bodies over 500m2')\n",
    "\n",
    "water_gdf = OSMM[OSMM[\"Surf_Obj\"] == \"Water\"].copy()\n",
    "large_water_gdf = water_gdf[water_gdf['calcarea'] > 500]\n",
    "water_gdf = water_gdf.to_crs(chm_crs)\n",
    "\n",
    "# Rasterise mask_terms\n",
    "water_mask = features.rasterize(\n",
    "    [(geom, 1) for geom in large_water_gdf.geometry],\n",
    "    out_shape=out_shape,\n",
    "    transform=out_transform,\n",
    "    fill=0,\n",
    "    dtype=\"uint8\"\n",
    ")\n",
    "\n",
    "# Apply water mask to CHM\n",
    "chm_data = np.where(water_mask == 1, np.nan, chm_data)"
   ]
  },
  {
   "cell_type": "code",
   "execution_count": 13,
   "id": "81e1b297",
   "metadata": {},
   "outputs": [
    {
     "name": "stdout",
     "output_type": "stream",
     "text": [
      "Masking out non-tree OSMM features from CHM\n"
     ]
    }
   ],
   "source": [
    "###########################################\n",
    "# Mask out non-tree OSMM features from CHM\n",
    "###########################################\n",
    "\n",
    "print('Masking out non-tree OSMM features from CHM')\n",
    "\n",
    "# Buffer and reproject surface_terms\n",
    "surface_gdf = OSMM[OSMM[\"Surf_Obj\"] == \"Yes\"].copy()\n",
    "surface_gdf = surface_gdf.to_crs(chm_crs)\n",
    "surface_gdf[\"geometry\"] = surface_gdf.buffer(2)\n",
    "\n",
    "# Get mask_terms and reproject\n",
    "mask_gdf = OSMM[OSMM[\"Surf_Obj\"] == \"Mask\"].copy()\n",
    "mask_gdf = mask_gdf.to_crs(chm_crs)\n",
    "\n",
    "# Rasterise buffered surface_terms\n",
    "surface_mask = features.rasterize(\n",
    "        [(geom, 1) for geom in surface_gdf.geometry],\n",
    "        out_shape=out_shape,\n",
    "        transform=out_transform,\n",
    "        fill=0,\n",
    "        dtype=\"uint8\"\n",
    ")\n",
    "\n",
    "# Rasterise mask_terms\n",
    "mask_mask = features.rasterize(\n",
    "        [(geom, 1) for geom in mask_gdf.geometry],\n",
    "        out_shape=out_shape,\n",
    "        transform=out_transform,\n",
    "        fill=0,\n",
    "        dtype=\"uint8\"\n",
    ")\n",
    "\n",
    "# Apply both masks\n",
    "combined_mask = (surface_mask == 1) | (mask_mask == 1)\n",
    "chm_data[combined_mask] = np.nan"
   ]
  },
  {
   "cell_type": "code",
   "execution_count": 14,
   "id": "bb19fac6",
   "metadata": {},
   "outputs": [
    {
     "name": "stdout",
     "output_type": "stream",
     "text": [
      "Masking out buildings from OpenStreetMap\n"
     ]
    },
    {
     "name": "stderr",
     "output_type": "stream",
     "text": [
      "c:\\PythonWorkspaces\\VirtualEnvironment\\Lib\\site-packages\\geopandas\\io\\file.py:484: UserWarning: More than one layer found in 'wales_osm_clean.gpkg': 'points' (default), 'lines', 'multilinestrings', 'other_relations', 'multipolygons'. Specify layer parameter to avoid this warning.\n",
      "  crs = pyogrio.read_info(path_or_bytes).get(\"crs\")\n"
     ]
    }
   ],
   "source": [
    "###########################################\n",
    "# Mask out buildings from OpenStreetMap\n",
    "###########################################\n",
    "\n",
    "print('Masking out buildings from OpenStreetMap')\n",
    "\n",
    "osm_fp = f'C:/Users/eleanor.downer/OneDrive - Forest Research/Documents/TOW_Wales/wales_osm_clean.gpkg'\n",
    "osm_polygons = gpd.read_file(osm_fp, layer='multipolygons', bbox=tile_footprint)\n",
    "osm_buildings = osm_polygons[osm_polygons['building'].notna()].copy()\n",
    "osm_buildings = osm_buildings.to_crs(chm_crs)\n",
    "\n",
    "# Rasterise buildings\n",
    "osm_buildings_mask = features.rasterize(\n",
    "    [(geom, 1) for geom in osm_buildings.geometry],\n",
    "    out_shape=out_shape,\n",
    "    transform=out_transform,\n",
    "    fill=0,\n",
    "    dtype=\"uint8\"\n",
    ")\n",
    "\n",
    "osm_buildings_mask = osm_buildings_mask.astype(bool)\n",
    "chm_data[osm_buildings_mask] = np.nan"
   ]
  },
  {
   "cell_type": "code",
   "execution_count": 15,
   "id": "ab288208",
   "metadata": {},
   "outputs": [
    {
     "name": "stdout",
     "output_type": "stream",
     "text": [
      "Masking out power cables from CHM\n"
     ]
    }
   ],
   "source": [
    "###########################################\n",
    "# Mask power cables\n",
    "###########################################\n",
    "\n",
    "print('Masking out power cables from CHM')\n",
    "\n",
    "cables_fp = 'Y:/Forest Inventory/0700_NonCore_Funded/0726_TOW_Wales/04_Spatial Analysis/1_Reference_Data/10_Power_Lines/OHL_buffered.gpkg'\n",
    "cables = gpd.read_file(cables_fp)\n",
    "cables = cables.set_crs(chm_crs) \n",
    "\n",
    "# Rasterise cables\n",
    "cables_mask = features.rasterize(\n",
    "    [(geom, 1) for geom in cables.geometry],\n",
    "    out_shape=out_shape,\n",
    "    transform=out_transform,\n",
    "    fill=0,\n",
    "    dtype=\"uint8\"\n",
    ")\n",
    "\n",
    "cables_mask = cables_mask.astype(bool)\n",
    "\n",
    "over_20m_mask = chm_data > 20\n",
    "cables_mask = cables_mask & over_20m_mask\n",
    "\n",
    "chm_data[cables_mask] = np.nan"
   ]
  },
  {
   "cell_type": "code",
   "execution_count": null,
   "id": "9264d62e",
   "metadata": {},
   "outputs": [
    {
     "name": "stdout",
     "output_type": "stream",
     "text": [
      "Masking out power structures from CHM\n"
     ]
    }
   ],
   "source": [
    "###########################################\n",
    "# Mask power structures from OpenStreetMap\n",
    "###########################################\n",
    "\n",
    "print('Masking out power structures from CHM')\n",
    "\n",
    "power_structures_fp = 'Y:/Forest Inventory/0700_NonCore_Funded/0726_TOW_Wales/04_Spatial Analysis/1_Reference_Data/11_OpenStreetMap/osm_power_structures_v2.gpkg'\n",
    "power_structures = gpd.read_file(power_structures_fp, bbox=tile_footprint)\n",
    "\n",
    "power_structures = power_structures[power_structures['power_source'] != 'solar'].copy()\n",
    "\n",
    "if power_structures.crs != chm_crs:\n",
    "    power_structures = power_structures.to_crs(chm_crs)\n",
    "\n",
    "power_structures_mask = features.rasterize(\n",
    "    [(geom, 1) for geom in power_structures.geometry],\n",
    "    out_shape=out_shape,\n",
    "    transform=out_transform,\n",
    "    fill=0,\n",
    "    dtype=\"uint8\"\n",
    ")\n",
    "\n",
    "power_structures_mask = power_structures_mask.astype(bool)\n",
    "chm_data[power_structures_mask] = np.nan"
   ]
  },
  {
   "cell_type": "code",
   "execution_count": 17,
   "id": "e25cd828",
   "metadata": {},
   "outputs": [],
   "source": [
    "####################################\n",
    "# Remove clusters smaller than 5m2\n",
    "####################################\n",
    "\n",
    "# Create binary mask of valid pixels\n",
    "mask = ~np.isnan(chm_data)\n",
    "\n",
    "structure = ndimage.generate_binary_structure(2, 1) # Label connected components\n",
    "labeled, num = ndimage.label(mask, structure=structure)\n",
    "sizes = np.bincount(labeled.ravel()) # Count component sizes\n",
    "\n",
    "# Build keep mask\n",
    "keep_mask = np.zeros_like(sizes, dtype=bool)\n",
    "keep_mask[sizes >= 5] = True\n",
    "keep_mask[0] = False  # background always False\n",
    "\n",
    "chm_data = np.where(keep_mask[labeled], chm_data, np.nan)"
   ]
  },
  {
   "cell_type": "code",
   "execution_count": 18,
   "id": "1ca9e480",
   "metadata": {},
   "outputs": [],
   "source": [
    "####################################\n",
    "# Save to file - with NFI still\n",
    "####################################\n",
    "\n",
    "out_meta.update({\n",
    "    'width' : out_shape[1],\n",
    "    'height' : out_shape[0],\n",
    "    'crs' : chm_crs,\n",
    "    'transform' : out_transform,\n",
    "})\n",
    "\n",
    "chm_data = np.where(np.isnan(chm_data), -9999.0, chm_data)\n",
    "\n",
    "output_path = f'{wd}/VOM/{tile_of_interest}_VOM_with_NFI.tif'\n",
    "with rasterio.open(output_path, \"w\", **out_meta) as dst:\n",
    "    dst.write(chm_data, 1)"
   ]
  },
  {
   "cell_type": "markdown",
   "id": "e7b465a5",
   "metadata": {},
   "source": [
    "Hedge extraction here.\n",
    "\n",
    "Raster of CHM with hedges removed.\n",
    "tif saved here : //forestresearch.gov.uk/shares/IFOS/Forest Inventory/0700_NonCore_Funded/0726_TOW_Wales/04_Spatial Analysis/3_Test_Square/Tests/SS79_VOM_hedges_filtered.tif\n",
    "\n",
    "Height variation mask also created in this step."
   ]
  },
  {
   "cell_type": "code",
   "execution_count": 44,
   "id": "3c80f762",
   "metadata": {},
   "outputs": [],
   "source": [
    "#############################################\n",
    "# Load in CHM after hedge extraction process\n",
    "#############################################\n",
    "\n",
    "chm_path = f'{wd}/VOM/{tile_of_interest}_VOM_NFI_hedges_extracted.tif'\n",
    "\n",
    "with rasterio.open(chm_path) as src:\n",
    "    chm_data = src.read(1).astype('float32')\n",
    "    chm_transform = src.transform\n",
    "    chm_meta = src.meta\n",
    "    chm_crs = src.crs"
   ]
  },
  {
   "cell_type": "code",
   "execution_count": null,
   "id": "7f892dfb",
   "metadata": {},
   "outputs": [],
   "source": [
    "print(chm_data.shape)"
   ]
  },
  {
   "cell_type": "code",
   "execution_count": null,
   "id": "96ef64ee",
   "metadata": {},
   "outputs": [
    {
     "name": "stdout",
     "output_type": "stream",
     "text": [
      "(9999, 9999)\n"
     ]
    }
   ],
   "source": [
    "#############################################\n",
    "# Load in height variation raster\n",
    "#############################################\n",
    "\n",
    "################################################\n",
    "# Mask out large, flat objects\n",
    "# (flat buildings/structures and gorse/shrub)\n",
    "################################################\n",
    "\n",
    "chm_var_path = f\"{wd}/VOM/height_var/{tile_of_interest}_VOM_NFI_hedges_extracted_hv3x3.tif\"\n",
    "\n",
    "with rasterio.open(chm_var_path) as var_src:\n",
    "    chm_var_data = var_src.read(1).astype(np.float16)\n",
    "    chm_var_data = np.where(chm_var_data > 0.3, np.nan, chm_var_data)\n",
    "    var_meta = var_src.meta.copy()\n",
    "\n",
    "    chm_crs = var_src.crs\n",
    "\n",
    "mask = ~np.isnan(chm_var_data) # Create binary mask of valid pixels\n",
    "\n",
    "structure = ndimage.generate_binary_structure(2, 1) # Label connected components\n",
    "labeled, num = ndimage.label(mask, structure=structure)\n",
    "sizes = np.bincount(labeled.ravel()) # Count component sizes\n",
    "\n",
    "# Build keep mask\n",
    "keep_mask = np.zeros_like(sizes, dtype=bool)\n",
    "keep_mask[sizes >= 100] = False\n",
    "keep_mask[0] = True\n",
    "\n",
    "chm_var_data = np.where(keep_mask[labeled], chm_var_data, np.nan)\n",
    "\n",
    "mask = (~np.isnan(chm_var_data))\n",
    "mask = mask.astype('int16')\n",
    "\n",
    "\n",
    "\n",
    "# Mask out low variation areas from VOM\n",
    "chm_data[mask] = np.nan"
   ]
  },
  {
   "cell_type": "code",
   "execution_count": 33,
   "id": "3b268b34",
   "metadata": {},
   "outputs": [],
   "source": [
    "####################################\n",
    "# Remove pixels lower than 2.5m\n",
    "####################################\n",
    "\n",
    "chm_data[chm_data < 2.5] = np.nan"
   ]
  },
  {
   "cell_type": "code",
   "execution_count": 34,
   "id": "2bc6a001",
   "metadata": {},
   "outputs": [
    {
     "name": "stdout",
     "output_type": "stream",
     "text": [
      "Masking out NFI Woodland from CHM\n"
     ]
    }
   ],
   "source": [
    "####################################\n",
    "# Mask out NFI Woodland\n",
    "####################################\n",
    "\n",
    "print('Masking out NFI Woodland from CHM')\n",
    "\n",
    "NFI_woodland_fp = 'Y:/Forest Inventory/0700_NonCore_Funded/0726_TOW_Wales/04_Spatial Analysis/1_Reference_Data/6_Wales_NFI_2023/NFI_Wales_2023_WoodlandOnly.gpkg'\n",
    "nfi_gdf = gpd.read_file(NFI_woodland_fp, bbox=tile_footprint)\n",
    "\n",
    "# Reproject NFI to match CHM \n",
    "if nfi_gdf.crs != chm_crs:\n",
    "    nfi_gdf = nfi_gdf.to_crs(chm_crs)\n",
    "\n",
    "# Rasterise NFI\n",
    "nfi_mask = features.rasterize(\n",
    "    [(geom, 1) for geom in nfi_gdf.geometry],\n",
    "    out_shape=chm_data.shape, #out_shape=out_shape,\n",
    "    transform=chm_transform, #transform=out_transform,\n",
    "    fill=0,\n",
    "    dtype=\"uint8\"\n",
    ")\n",
    "\n",
    "# Mask NFI out of VOM\n",
    "nfi_mask = nfi_mask.astype(bool)\n",
    "chm_data[nfi_mask] = np.nan"
   ]
  },
  {
   "cell_type": "code",
   "execution_count": null,
   "id": "ed2e7966",
   "metadata": {},
   "outputs": [
    {
     "name": "stdout",
     "output_type": "stream",
     "text": [
      "(10000, 10000)\n",
      "(9999, 9999)\n"
     ]
    }
   ],
   "source": [
    "####################################\n",
    "# NDVI Thresholding (0.2)\n",
    "####################################\n",
    "\n",
    "ndvi_fp = 'Y:/Forest Inventory/0700_NonCore_Funded/0726_TOW_Wales/04_Spatial Analysis/3_Test_Square/NDVI/SS79_ndvi_composite_resampled_v3.tif'\n",
    "with rasterio.open(ndvi_fp) as src:\n",
    "    ndvi_array = src.read(1).astype('float32')\n",
    "\n",
    "ndvi_array[ndvi_array == -9999] = np.nan\n",
    "ndvi_mask = ndvi_array < 0.2\n",
    "\n",
    "#chm_data[ndvi_mask] = np.nan\n",
    "\n",
    "print(ndvi_mask.shape)\n",
    "print(chm_data.shape)"
   ]
  },
  {
   "cell_type": "code",
   "execution_count": 38,
   "id": "2446e0b0",
   "metadata": {},
   "outputs": [
    {
     "ename": "NameError",
     "evalue": "name 'ndvi_array' is not defined",
     "output_type": "error",
     "traceback": [
      "\u001b[1;31m---------------------------------------------------------------------------\u001b[0m",
      "\u001b[1;31mNameError\u001b[0m                                 Traceback (most recent call last)",
      "Cell \u001b[1;32mIn[38], line 8\u001b[0m\n\u001b[0;32m      5\u001b[0m \u001b[38;5;28;01mfrom\u001b[39;00m\u001b[38;5;250m \u001b[39m\u001b[38;5;21;01mrasterio\u001b[39;00m\u001b[38;5;21;01m.\u001b[39;00m\u001b[38;5;21;01mfeatures\u001b[39;00m\u001b[38;5;250m \u001b[39m\u001b[38;5;28;01mimport\u001b[39;00m shapes\n\u001b[0;32m      7\u001b[0m thresh \u001b[38;5;241m=\u001b[39m \u001b[38;5;241m0.5\u001b[39m\n\u001b[1;32m----> 8\u001b[0m mask_data \u001b[38;5;241m=\u001b[39m np\u001b[38;5;241m.\u001b[39mzeros(\u001b[43mndvi_array\u001b[49m\u001b[38;5;241m.\u001b[39mshape)\n\u001b[0;32m      9\u001b[0m mask_data[ndvi_array \u001b[38;5;241m<\u001b[39m\u001b[38;5;241m=\u001b[39m thresh] \u001b[38;5;241m=\u001b[39m \u001b[38;5;241m1\u001b[39m \u001b[38;5;66;03m# Set pixels with mean yearly NDVI greater than threshold to 1\u001b[39;00m\n\u001b[0;32m     10\u001b[0m mask_data \u001b[38;5;241m=\u001b[39m mask_data\u001b[38;5;241m.\u001b[39mastype(np\u001b[38;5;241m.\u001b[39mint16)  \u001b[38;5;66;03m# Should print [0, 1]\u001b[39;00m\n",
      "\u001b[1;31mNameError\u001b[0m: name 'ndvi_array' is not defined"
     ]
    }
   ],
   "source": [
    "####################################\n",
    "# NDVI Thresholding (2023 Update)\n",
    "####################################\n",
    "from skimage import morphology\n",
    "from rasterio.features import shapes\n",
    "\n",
    "thresh = 0.5\n",
    "mask_data = np.zeros(ndvi_array.shape)\n",
    "mask_data[ndvi_array <= thresh] = 1 # Set pixels with mean yearly NDVI greater than threshold to 1\n",
    "mask_data = mask_data.astype(np.int16)  # Should print [0, 1]\n",
    "\n",
    "shrink_size = 3  # Number of pixels to shrink by\n",
    "selem = morphology.disk(shrink_size)  # Create a disk-shaped element for erosion\n",
    "shrunken_mask = morphology.erosion(mask_data, selem)\n",
    "\n",
    "print(shrunken_mask.shape)"
   ]
  },
  {
   "cell_type": "code",
   "execution_count": 35,
   "id": "e496f303",
   "metadata": {},
   "outputs": [],
   "source": [
    "####################################\n",
    "# Remove clusters smaller than 5m2\n",
    "####################################\n",
    "\n",
    "# Create binary mask of valid pixels\n",
    "mask = ~np.isnan(chm_data)\n",
    "\n",
    "structure = ndimage.generate_binary_structure(2, 1) # Label connected components\n",
    "labeled, num = ndimage.label(mask, structure=structure)\n",
    "sizes = np.bincount(labeled.ravel()) # Count component sizes\n",
    "\n",
    "# Build keep mask\n",
    "keep_mask = np.zeros_like(sizes, dtype=bool)\n",
    "keep_mask[sizes >= 5] = True\n",
    "keep_mask[0] = False  # background always False\n",
    "\n",
    "chm_data = np.where(keep_mask[labeled], chm_data, np.nan)"
   ]
  },
  {
   "cell_type": "code",
   "execution_count": 36,
   "id": "25cc9dbc",
   "metadata": {},
   "outputs": [],
   "source": [
    "####################################\n",
    "# Save to file\n",
    "####################################\n",
    "\n",
    "chm_meta.update({\n",
    "    'width' : (chm_data.shape)[1], # out_shape[1],\n",
    "    'height' : (chm_data.shape)[0], # out_shape[0],\n",
    "    'crs' : chm_crs,\n",
    "    'transform' : chm_transform # out_transform,\n",
    "})\n",
    "\n",
    "chm_data = np.where(np.isnan(chm_data), -9999.0, chm_data)\n",
    "\n",
    "output_path = f'{wd}/VOM/{tile_of_interest}_VOM_final.tif'\n",
    "with rasterio.open(output_path, \"w\", **chm_meta) as dst:\n",
    "    dst.write(chm_data, 1)"
   ]
  }
 ],
 "metadata": {
  "kernelspec": {
   "display_name": "VirtualEnvironment",
   "language": "python",
   "name": "python3"
  },
  "language_info": {
   "codemirror_mode": {
    "name": "ipython",
    "version": 3
   },
   "file_extension": ".py",
   "mimetype": "text/x-python",
   "name": "python",
   "nbconvert_exporter": "python",
   "pygments_lexer": "ipython3",
   "version": "3.12.6"
  }
 },
 "nbformat": 4,
 "nbformat_minor": 5
}
