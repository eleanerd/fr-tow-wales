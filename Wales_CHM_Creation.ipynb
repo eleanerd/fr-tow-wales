{
 "cells": [
  {
   "cell_type": "code",
   "execution_count": 1,
   "metadata": {},
   "outputs": [],
   "source": [
    "import sys\n",
    "import pandas as pd\n",
    "sys.path.insert(1,'C:\\R-Packages')\n",
    "\n",
    "import rasterio\n",
    "import numpy as np\n",
    "import os\n",
    "\n",
    "# === Specify file paths ===\n",
    "dtm_path = r'C:\\Users\\conor.strong\\Downloads\\wales_dtm_32bit_cog.tif'\n",
    "dsm_path = r'C:\\Users\\conor.strong\\Downloads\\wales_dsm_32bit_cog.tif'\n",
    "chm_output_path = r'C:\\Users\\conor.strong\\Downloads\\Wales_CHM_2020_22.tif'"
   ]
  },
  {
   "cell_type": "code",
   "execution_count": 2,
   "metadata": {},
   "outputs": [
    {
     "name": "stdout",
     "output_type": "stream",
     "text": [
      "CHM saved successfully at C:\\Users\\conor.strong\\Downloads\\Wales_CHM_2020_22.tif\n"
     ]
    }
   ],
   "source": [
    "# === Open source rasters ===\n",
    "with rasterio.open(dtm_path) as dtm_src, rasterio.open(dsm_path) as dsm_src:\n",
    "    if (\n",
    "        dtm_src.width != dsm_src.width or\n",
    "        dtm_src.height != dsm_src.height or\n",
    "        dtm_src.transform != dsm_src.transform or\n",
    "        dtm_src.crs != dsm_src.crs\n",
    "    ):\n",
    "        raise ValueError(\"DTM and DSM rasters are not aligned.\")\n",
    "\n",
    "    meta = dtm_src.meta.copy()\n",
    "    meta.update(dtype=rasterio.float32)\n",
    "\n",
    "    with rasterio.open(chm_output_path, 'w', **meta) as chm_dst:\n",
    "        # Iterate over windows (blocks)\n",
    "        for ji, window in dtm_src.block_windows(1):\n",
    "            dtm_block = dtm_src.read(1, window=window)\n",
    "            dsm_block = dsm_src.read(1, window=window)\n",
    "\n",
    "            chm_block = dsm_block - dtm_block\n",
    "            chm_block[chm_block < 0] = 0\n",
    "\n",
    "            chm_dst.write(chm_block.astype(np.float32), 1, window=window)\n",
    "\n",
    "print(f\"CHM saved successfully at {chm_output_path}\")\n"
   ]
  }
 ],
 "metadata": {
  "kernelspec": {
   "display_name": "ArcGISPro",
   "language": "Python",
   "name": "python3"
  },
  "language_info": {
   "file_extension": ".py",
   "name": "python",
   "version": "3"
  }
 },
 "nbformat": 4,
 "nbformat_minor": 2
}
