{
 "cells": [
  {
   "cell_type": "markdown",
   "id": "c2a1c8eb",
   "metadata": {},
   "source": [
    "### Creating gpkg of power structures in OpenStreetMap\n",
    "\n",
    "Saving power structures in the lines and points layers as buffered polygons, ready for masking in TOW Wales."
   ]
  },
  {
   "cell_type": "code",
   "execution_count": 7,
   "id": "0750e720",
   "metadata": {},
   "outputs": [],
   "source": [
    "import geopandas as gpd\n",
    "import pandas as pd\n",
    "from shapely.ops import polygonize"
   ]
  },
  {
   "cell_type": "code",
   "execution_count": 5,
   "id": "420b704e",
   "metadata": {},
   "outputs": [],
   "source": [
    "##############################################\n",
    "# Line features\n",
    "##############################################\n",
    "\n",
    "osm_fp = f'C:/Users/eleanor.downer/OneDrive - Forest Research/Documents/TOW_Wales/wales_osm_clean.gpkg'\n",
    "\n",
    "osm_lines = gpd.read_file(osm_fp, layer='lines') # Open lines layer\n",
    "osm_lines = osm_lines.to_crs(epsg=27700) # Reproject to EPSG:27700 (British National Grid)\n",
    "\n",
    "osm_lines['other_tags'] = osm_lines['other_tags'].astype(str) # Convert 'other_tags' values to string\n",
    "osm_power_features = osm_lines[osm_lines['other_tags'].str.contains(\"power\", na=False)].copy() # Features that contain 'power' in 'other_tags'\n",
    "\n",
    "osm_power_features['power'] = \"\" # Create new column\n",
    "osm_power_features.drop(\n",
    "    columns=['highway', 'waterway', 'aerialway', 'barrier', 'man_made', 'z_order'],\n",
    "    inplace=True) # Drop other columns\n",
    "\n",
    "for index, row in osm_power_features.iterrows(): # Itterate over rows\n",
    "\n",
    "    # Find the power tag in other_tags and the value\n",
    "    tags = row['other_tags']\n",
    "    split_tags = tags.split(',')\n",
    "    for tags in split_tags:\n",
    "        if '\"power\"=>' in tags:\n",
    "            power_type = tags.split('\"')[-2]\n",
    "    osm_power_features.at[index, 'power'] = power_type # Save power tag as attribute in 'power' column\n",
    "\n",
    "structure_list = ['compensator', 'generator', 'plant', 'substation', 'switchgear'] # Power structures to be masked out\n",
    "osm_power_structures = osm_power_features[osm_power_features['power'].isin(structure_list)].copy()\n",
    "\n",
    "osm_power_cables = osm_power_features[osm_power_features['power'].isin(['cable', 'line', 'minor_line', 'minor_underground_cable'])].copy()\n",
    "\n",
    "# Convert MultiLineStrings to Polygons - Function\n",
    "def multiline_to_polygon(mls):\n",
    "    polys = list(polygonize(mls))\n",
    "    if len(polys) == 1:\n",
    "        return polys[0]  # single polygon\n",
    "    elif len(polys) > 1:\n",
    "        # if multiple polygons are formed, return as MultiPolygon\n",
    "        from shapely.geometry import MultiPolygon\n",
    "        return MultiPolygon(polys)\n",
    "    else:\n",
    "        return None  # couldn't polygonize\n",
    "\n",
    "# Convert to lines to polygons\n",
    "osm_power_polygons = osm_power_structures.copy()\n",
    "osm_power_polygons[\"geometry\"] = osm_power_polygons[\"geometry\"].apply(multiline_to_polygon)\n",
    "osm_power_polygons['geometry'] = osm_power_polygons.buffer(2) # Buffer by 2m\n"
   ]
  },
  {
   "cell_type": "code",
   "execution_count": 11,
   "id": "5303681d",
   "metadata": {},
   "outputs": [],
   "source": [
    "###########################################\n",
    "# Point features\n",
    "###########################################\n",
    "\n",
    "osm_points = gpd.read_file(osm_fp, layer='points') # Open points layer\n",
    "osm_points = osm_points.to_crs(epsg=27700) # Reproject to EPSG:27700 (British National Grid)\n",
    "\n",
    "osm_points['other_tags'] = osm_points['other_tags'].astype(str)\n",
    "osm_power_points = osm_points[osm_points['other_tags'].str.contains(\"power\", na=False)].copy()\n",
    "\n",
    "for index, row in osm_power_points.iterrows():\n",
    "\n",
    "    tags = row['other_tags']\n",
    "    split_tags = tags.split(',')\n",
    "    for tags in split_tags:\n",
    "        if '\"power\"=>' in tags:\n",
    "            power_type = tags.split('\"')[-2]\n",
    "\n",
    "    osm_power_points.at[index, 'power'] = power_type\n",
    "\n",
    "osm_towers_and_poles = osm_power_points[osm_power_points['power'].isin(['pole', 'tower'])].copy()\n",
    "osm_towers_and_poles = osm_towers_and_poles[osm_towers_and_poles['highway'].isna()]\n",
    "\n",
    "poles = osm_towers_and_poles[osm_towers_and_poles['power'] == 'pole'].copy()\n",
    "towers = osm_towers_and_poles[osm_towers_and_poles['power'] == 'tower'].copy()\n",
    "\n",
    "poles['geometry'] = poles.buffer(2.5) # 5m buffer for poles\n",
    "towers['geometry'] = towers.buffer(5) # 10m buffer for towers\n",
    "\n",
    "osm_towers_and_poles = pd.concat([poles, towers], ignore_index=True)\n",
    "\n",
    "# Make sure geometry type is Polygon/Multipolygon\n",
    "osm_towers_and_poles = osm_towers_and_poles.set_geometry('geometry')\n",
    "osm_towers_and_poles = osm_towers_and_poles.explode(index_parts=False)\n",
    "\n",
    "osm_towers_and_poles.reset_index(drop=True, inplace=True) # reset index for clean output\n",
    "\n",
    "osm_towers_and_poles.drop(\n",
    "    columns=['barrier', 'highway', 'ref', 'address', 'is_in', 'place', 'man_made'],\n",
    "    inplace=True) # Drop other columns\n"
   ]
  },
  {
   "cell_type": "code",
   "execution_count": 12,
   "id": "9dbfd955",
   "metadata": {},
   "outputs": [
    {
     "name": "stdout",
     "output_type": "stream",
     "text": [
      "Index(['osm_id', 'name', 'other_tags', 'geometry', 'power'], dtype='object')\n",
      "Index(['osm_id', 'name', 'other_tags', 'power', 'geometry'], dtype='object')\n"
     ]
    }
   ],
   "source": [
    "print(osm_power_polygons.columns)\n",
    "print(osm_towers_and_poles.columns)"
   ]
  },
  {
   "cell_type": "code",
   "execution_count": 13,
   "id": "435223bc",
   "metadata": {},
   "outputs": [],
   "source": [
    "######################\n",
    "# Merge polygon gdfs\n",
    "######################\n",
    "\n",
    "osm_power_polygons_concat = pd.concat([osm_power_polygons, osm_towers_and_poles], ignore_index=True)\n",
    "osm_power_polygons_concat.reset_index(drop=True, inplace=True)\n",
    "\n",
    "osm_power_polygons_concat.to_file('Y:/Forest Inventory/0700_NonCore_Funded/0726_TOW_Wales/04_Spatial Analysis/1_Reference_Data/11_OpenStreetMap/osm_power_structures.gpkg')"
   ]
  }
 ],
 "metadata": {
  "kernelspec": {
   "display_name": "VirtualEnvironment",
   "language": "python",
   "name": "python3"
  },
  "language_info": {
   "codemirror_mode": {
    "name": "ipython",
    "version": 3
   },
   "file_extension": ".py",
   "mimetype": "text/x-python",
   "name": "python",
   "nbconvert_exporter": "python",
   "pygments_lexer": "ipython3",
   "version": "3.12.6"
  }
 },
 "nbformat": 4,
 "nbformat_minor": 5
}
